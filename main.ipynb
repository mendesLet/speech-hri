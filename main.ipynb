{
 "cells": [
  {
   "cell_type": "code",
   "execution_count": null,
   "metadata": {},
   "outputs": [],
   "source": [
    "from simple_tts.tts_client import TtsClient\n",
    "import simple_asr\n",
    "from simple_ww.wakeword_node import run_ww, WakeWordNode\n",
    "import simple_interfaces\n",
    "from simple_nlu.nlu_client import NLUClient\n",
    "import click\n",
    "import logging\n",
    "\n",
    "from time import sleep\n",
    "\n",
    "import rclpy"
   ]
  },
  {
   "cell_type": "code",
   "execution_count": null,
   "metadata": {},
   "outputs": [],
   "source": [
    "def main():\n",
    "    rclpy.init()\n",
    "    tts = TtsClient()\n",
    "    nlu = NLUClient()\n",
    "    ww = WakeWordNode('stop')\n",
    "\n",
    "    print(f\"Starting Question Answer\")\n",
    "\n",
    "    while not ww.word_found:\n",
    "        if '?' in ww.msg:\n",
    "            answer = (nlu.send_request(ww.msg)).answer\n",
    "            tts.send_request(answer)\n",
    "            ww.msg = \"\"\n",
    "            pass\n",
    "        rclpy.spin_once(ww)        \n",
    "\n",
    "if __name__ == '__main__':\n",
    "    main()"
   ]
  }
 ],
 "metadata": {
  "language_info": {
   "name": "python"
  }
 },
 "nbformat": 4,
 "nbformat_minor": 2
}
